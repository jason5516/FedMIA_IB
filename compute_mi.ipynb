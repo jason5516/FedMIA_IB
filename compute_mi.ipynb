{
 "cells": [
  {
   "cell_type": "markdown",
   "id": "fc732cbe",
   "metadata": {},
   "source": [
    "## Load Features and Compute MI"
   ]
  },
  {
   "cell_type": "code",
   "execution_count": 1,
   "id": "83e48d89",
   "metadata": {},
   "outputs": [],
   "source": [
    "import os\n",
    "import torch\n",
    "import torch.nn as nn\n",
    "import torch.nn.functional as F\n",
    "import torchvision\n",
    "import torchvision.transforms as transforms\n",
    "import torch.nn as nn\n",
    "from torch.utils.data import DataLoader, TensorDataset\n",
    "import numpy as np\n",
    "import matplotlib.pyplot as plt\n",
    "import pickle as pkl\n",
    "\n",
    "from information.mutual_information_calculator import MutualInformationCalculator"
   ]
  },
  {
   "cell_type": "code",
   "execution_count": 3,
   "id": "f2c78a00",
   "metadata": {},
   "outputs": [
    {
     "name": "stdout",
     "output_type": "stream",
     "text": [
      "0 tensor(0., device='cuda:0')\n",
      "epoch 1 || IXZ: tensor([7.6439]), IZY: tensor([3.3076])\n",
      "0 tensor(0., device='cuda:0')\n",
      "epoch 5 || IXZ: tensor([7.6439]), IZY: tensor([3.3039])\n",
      "0 tensor(0., device='cuda:0')\n",
      "epoch 10 || IXZ: tensor([7.6439]), IZY: tensor([3.3074])\n",
      "0 tensor(0., device='cuda:0')\n",
      "epoch 15 || IXZ: tensor([7.6439]), IZY: tensor([3.2960])\n",
      "0 tensor(0., device='cuda:0')\n",
      "epoch 20 || IXZ: tensor([7.6439]), IZY: tensor([3.2893])\n",
      "0 tensor(0., device='cuda:0')\n",
      "epoch 25 || IXZ: tensor([7.6439]), IZY: tensor([3.2650])\n"
     ]
    },
    {
     "ename": "KeyboardInterrupt",
     "evalue": "",
     "output_type": "error",
     "traceback": [
      "\u001b[0;31m---------------------------------------------------------------------------\u001b[0m",
      "\u001b[0;31mKeyboardInterrupt\u001b[0m                         Traceback (most recent call last)",
      "Cell \u001b[0;32mIn[3], line 12\u001b[0m\n\u001b[1;32m     10\u001b[0m \u001b[38;5;28;01mif\u001b[39;00m epoch \u001b[38;5;241m==\u001b[39m \u001b[38;5;241m0\u001b[39m:\n\u001b[1;32m     11\u001b[0m     epoch \u001b[38;5;241m=\u001b[39m \u001b[38;5;241m1\u001b[39m\n\u001b[0;32m---> 12\u001b[0m mi_datas \u001b[38;5;241m=\u001b[39m \u001b[43mtorch\u001b[49m\u001b[38;5;241;43m.\u001b[39;49m\u001b[43mload\u001b[49m\u001b[43m(\u001b[49m\u001b[43mfile_dir\u001b[49m\u001b[43m \u001b[49m\u001b[38;5;241;43m+\u001b[39;49m\u001b[43m \u001b[49m\u001b[38;5;124;43mf\u001b[39;49m\u001b[38;5;124;43m\"\u001b[39;49m\u001b[38;5;124;43m/client_0_features_epoch_\u001b[39;49m\u001b[38;5;132;43;01m{\u001b[39;49;00m\u001b[43mepoch\u001b[49m\u001b[38;5;132;43;01m}\u001b[39;49;00m\u001b[38;5;124;43m.pkl\u001b[39;49m\u001b[38;5;124;43m\"\u001b[39;49m\u001b[43m)\u001b[49m\n\u001b[1;32m     14\u001b[0m input_x \u001b[38;5;241m=\u001b[39m torch\u001b[38;5;241m.\u001b[39mfrom_numpy(mi_datas[\u001b[38;5;124m'\u001b[39m\u001b[38;5;124minput_data\u001b[39m\u001b[38;5;124m'\u001b[39m])\n\u001b[1;32m     15\u001b[0m label_y \u001b[38;5;241m=\u001b[39m torch\u001b[38;5;241m.\u001b[39mfrom_numpy(mi_datas[\u001b[38;5;124m'\u001b[39m\u001b[38;5;124mlabels\u001b[39m\u001b[38;5;124m'\u001b[39m])\n",
      "File \u001b[0;32m~/.conda/envs/pfllib/lib/python3.11/site-packages/torch/serialization.py:809\u001b[0m, in \u001b[0;36mload\u001b[0;34m(f, map_location, pickle_module, weights_only, **pickle_load_args)\u001b[0m\n\u001b[1;32m    807\u001b[0m             \u001b[38;5;28;01mexcept\u001b[39;00m \u001b[38;5;167;01mRuntimeError\u001b[39;00m \u001b[38;5;28;01mas\u001b[39;00m e:\n\u001b[1;32m    808\u001b[0m                 \u001b[38;5;28;01mraise\u001b[39;00m pickle\u001b[38;5;241m.\u001b[39mUnpicklingError(UNSAFE_MESSAGE \u001b[38;5;241m+\u001b[39m \u001b[38;5;28mstr\u001b[39m(e)) \u001b[38;5;28;01mfrom\u001b[39;00m\u001b[38;5;250m \u001b[39m\u001b[38;5;28;01mNone\u001b[39;00m\n\u001b[0;32m--> 809\u001b[0m         \u001b[38;5;28;01mreturn\u001b[39;00m \u001b[43m_load\u001b[49m\u001b[43m(\u001b[49m\u001b[43mopened_zipfile\u001b[49m\u001b[43m,\u001b[49m\u001b[43m \u001b[49m\u001b[43mmap_location\u001b[49m\u001b[43m,\u001b[49m\u001b[43m \u001b[49m\u001b[43mpickle_module\u001b[49m\u001b[43m,\u001b[49m\u001b[43m \u001b[49m\u001b[38;5;241;43m*\u001b[39;49m\u001b[38;5;241;43m*\u001b[39;49m\u001b[43mpickle_load_args\u001b[49m\u001b[43m)\u001b[49m\n\u001b[1;32m    810\u001b[0m \u001b[38;5;28;01mif\u001b[39;00m weights_only:\n\u001b[1;32m    811\u001b[0m     \u001b[38;5;28;01mtry\u001b[39;00m:\n",
      "File \u001b[0;32m~/.conda/envs/pfllib/lib/python3.11/site-packages/torch/serialization.py:1172\u001b[0m, in \u001b[0;36m_load\u001b[0;34m(zip_file, map_location, pickle_module, pickle_file, **pickle_load_args)\u001b[0m\n\u001b[1;32m   1170\u001b[0m unpickler \u001b[38;5;241m=\u001b[39m UnpicklerWrapper(data_file, \u001b[38;5;241m*\u001b[39m\u001b[38;5;241m*\u001b[39mpickle_load_args)\n\u001b[1;32m   1171\u001b[0m unpickler\u001b[38;5;241m.\u001b[39mpersistent_load \u001b[38;5;241m=\u001b[39m persistent_load\n\u001b[0;32m-> 1172\u001b[0m result \u001b[38;5;241m=\u001b[39m \u001b[43munpickler\u001b[49m\u001b[38;5;241;43m.\u001b[39;49m\u001b[43mload\u001b[49m\u001b[43m(\u001b[49m\u001b[43m)\u001b[49m\n\u001b[1;32m   1174\u001b[0m torch\u001b[38;5;241m.\u001b[39m_utils\u001b[38;5;241m.\u001b[39m_validate_loaded_sparse_tensors()\n\u001b[1;32m   1176\u001b[0m \u001b[38;5;28;01mreturn\u001b[39;00m result\n",
      "\u001b[0;31mKeyboardInterrupt\u001b[0m: "
     ]
    }
   ],
   "source": [
    "# load input, label and features\n",
    "file_dir = \"./log_fedmia/iid_ib/cifar10_K10_N5000_ResNet18_IB_layer_iblayer0_beta0.001_dynamicNone_defnone_iid$1_$1_$sgd_local1_s1/layer_features\"\n",
    "\n",
    "# create calculator to compute MI\n",
    "device = 'cuda' if torch.cuda.is_available() else 'cpu'\n",
    "mi_calculator = MutualInformationCalculator(device=device, num_layers=1)\n",
    "\n",
    "# layers ['layer1.0.ib', 'layer1.0.bn2', 'layer1.1.ib', 'layer1.1.bn2', 'layer1.1', 'layer1', 'layer2', 'layer3', 'layer4']\n",
    "for epoch in range(0, 101, 5):\n",
    "    if epoch == 0:\n",
    "        epoch = 1\n",
    "    mi_datas = torch.load(file_dir + f\"/client_0_features_epoch_{epoch}.pkl\")\n",
    "\n",
    "    input_x = torch.from_numpy(mi_datas['input_data'])\n",
    "    label_y = torch.from_numpy(mi_datas['labels'])\n",
    "    features_z = mi_datas['layer_features']['layer1.0.ib']\n",
    "\n",
    "    # reshape feature data\n",
    "    feature_z_data = np.array(features_z)\n",
    "    feature_z_data = torch.from_numpy(feature_z_data)\n",
    "    feature_z_data = feature_z_data.reshape(-1, *feature_z_data.shape[2:])\n",
    "\n",
    "    \n",
    "\n",
    "    I_XT, I_TY = mi_calculator.compute_mutual_information(input_x, label_y, [feature_z_data], epoch=epoch)\n",
    "    print(f'epoch {epoch} || IXZ: {I_XT}, IZY: {I_TY}')\n",
    "\n"
   ]
  },
  {
   "cell_type": "markdown",
   "id": "0ef5c316",
   "metadata": {},
   "source": [
    "## test VGG16"
   ]
  },
  {
   "cell_type": "code",
   "execution_count": null,
   "id": "c8d188b7",
   "metadata": {},
   "outputs": [],
   "source": [
    "import os\n",
    "import torch\n",
    "import torch.nn as nn\n",
    "import torch.nn.functional as F\n",
    "import torchvision\n",
    "import torchvision.transforms as transforms\n",
    "import torch.nn as nn\n",
    "from torch.utils.data import DataLoader, TensorDataset\n",
    "import numpy as np\n",
    "import matplotlib.pyplot as plt\n",
    "import pickle as pkl\n",
    "\n",
    "from information.mutual_information_calculator import MutualInformationCalculator"
   ]
  },
  {
   "cell_type": "code",
   "execution_count": null,
   "id": "bb34dcc6",
   "metadata": {},
   "outputs": [],
   "source": []
  }
 ],
 "metadata": {
  "kernelspec": {
   "display_name": "Python 3",
   "language": "python",
   "name": "python3"
  },
  "language_info": {
   "codemirror_mode": {
    "name": "ipython",
    "version": 3
   },
   "file_extension": ".py",
   "mimetype": "text/x-python",
   "name": "python",
   "nbconvert_exporter": "python",
   "pygments_lexer": "ipython3",
   "version": "3.11.11"
  }
 },
 "nbformat": 4,
 "nbformat_minor": 5
}
